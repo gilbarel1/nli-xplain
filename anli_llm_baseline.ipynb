{
 "cells": [
  {
   "cell_type": "markdown",
   "id": "c468709d",
   "metadata": {},
   "source": [
    "# ANLI Baseline with LLM\n",
    "\n",
    "You have to implement in this notebook a baseline for ANLI classification using an LLM.\n",
    "This baseline must be implemented using DSPy.\n",
    "\n"
   ]
  },
  {
   "cell_type": "code",
   "execution_count": null,
   "id": "2cec0d02",
   "metadata": {},
   "outputs": [],
   "source": [
    "# Configure the DSPy environment with the language model - for grok the parameters must be:\n",
    "# env variable should be in os.environ['XAI_API_KEY']\n",
    "# \"xai/grok-3-mini\"\n",
    "import os\n",
    "import dspy\n",
    "\n",
    "os.environ['XAI_API_KEY'] = 'YOUR_API_KEY'\n",
    "\n",
    "lm = dspy.LM('xai/grok-3-mini', api_key=os.environ['XAI_API_KEY'])\n",
    "# for ollama \n",
    "# lm = dspy.LM('ollama_chat/devstral', api_base='http://localhost:11434', api_key='')\n",
    "dspy.configure(lm=lm)"
   ]
  },
  {
   "cell_type": "markdown",
   "id": "02d1ae77",
   "metadata": {},
   "source": [
    "## LLM Setup"
   ]
  },
  {
   "cell_type": "code",
   "execution_count": 20,
   "id": "b60da44b",
   "metadata": {},
   "outputs": [
    {
     "name": "stdout",
     "output_type": "stream",
     "text": [
      "LLM DSPy program initialized!\n"
     ]
    }
   ],
   "source": [
    "from typing import Literal\n",
    "\n",
    "## Implement the DSPy classifier program.\n",
    "class ANLIClassifier(dspy.Signature):\n",
    "    \"\"\"Classify the relationship between a premise and hypothesis for natural language inference.\n",
    "    \n",
    "    Given a premise and hypothesis, determine their relationship:\n",
    "    - Return 0 if the hypothesis is entailed by the premise\n",
    "    - Return 1 if the hypothesis is neutral (neither entailed nor contradicted)\n",
    "    - Return 2 if the hypothesis contradicts the premise\n",
    "    \"\"\"\n",
    "    premise: str = dspy.InputField(desc=\"The premise statement\")\n",
    "    hypothesis: str = dspy.InputField(desc=\"The hypothesis statement\")\n",
    "    label: int = dspy.OutputField(desc=\"Classification label: 0=entailment, 1=neutral, 2=contradiction\")\n",
    "\n",
    "class LLMNLIProgram(dspy.Module):\n",
    "    def __init__(self):\n",
    "        super().__init__()\n",
    "        self.classifier = dspy.Predict(ANLIClassifier)\n",
    "    \n",
    "    def forward(self, premise, hypothesis):\n",
    "        result = self.classifier(premise=premise, hypothesis=hypothesis)\n",
    "        # Ensure the label is an integer and within valid range\n",
    "        try:\n",
    "            label = int(result.label)\n",
    "            if label not in [0, 1, 2]:\n",
    "                label = 1  # Default to neutral if invalid\n",
    "            result.label = label\n",
    "        except (ValueError, AttributeError):\n",
    "            result.label = 1  # Default to neutral if parsing fails\n",
    "        return result\n",
    "\n",
    "# Initialize the LLM program\n",
    "llm_program = LLMNLIProgram()\n",
    "print(\"LLM DSPy program initialized!\")"
   ]
  },
  {
   "cell_type": "markdown",
   "id": "98def278",
   "metadata": {},
   "source": [
    "## DeBERTa Setup"
   ]
  },
  {
   "cell_type": "code",
   "execution_count": 15,
   "id": "45311fbb",
   "metadata": {},
   "outputs": [
    {
     "name": "stdout",
     "output_type": "stream",
     "text": [
      "DeBERTa model loaded successfully!\n"
     ]
    }
   ],
   "source": [
    "# Load DeBERTa baseline model\n",
    "from transformers import AutoTokenizer, AutoModelForSequenceClassification\n",
    "import torch\n",
    "\n",
    "device = torch.device(\"cuda\") if torch.cuda.is_available() else torch.device(\"cpu\")\n",
    "model_name = \"MoritzLaurer/DeBERTa-v3-base-mnli-fever-anli\"\n",
    "tokenizer = AutoTokenizer.from_pretrained(model_name)\n",
    "deberta_model = AutoModelForSequenceClassification.from_pretrained(model_name).to(device)\n",
    "\n",
    "def deberta_predict(premise, hypothesis):\n",
    "    \"\"\"Predict using DeBERTa model\"\"\"\n",
    "    input_tokens = tokenizer(premise, hypothesis, truncation=True, return_tensors=\"pt\")\n",
    "    input_tokens = {k: v.to(device) for k, v in input_tokens.items()}\n",
    "    \n",
    "    with torch.no_grad():\n",
    "        output = deberta_model(**input_tokens)\n",
    "        prediction = torch.softmax(output.logits[0], -1).tolist()\n",
    "    \n",
    "    # Return the predicted label (0=entailment, 1=neutral, 2=contradiction)\n",
    "    return prediction.index(max(prediction))\n",
    "\n",
    "print(\"DeBERTa model loaded successfully!\")"
   ]
  },
  {
   "cell_type": "markdown",
   "id": "ad377c1d",
   "metadata": {},
   "source": [
    "## Optimizing LLM"
   ]
  },
  {
   "cell_type": "markdown",
   "id": "faecacbe",
   "metadata": {},
   "source": [
    "Make sure you load the ANLI dataset before running the optimization."
   ]
  },
  {
   "cell_type": "code",
   "execution_count": 17,
   "id": "2c729678",
   "metadata": {},
   "outputs": [
    {
     "name": "stdout",
     "output_type": "stream",
     "text": [
      "Preparing optimization data from dev_r3...\n",
      "Prepared 50 examples for optimization\n"
     ]
    }
   ],
   "source": [
    "# Prepare data for DSPy optimization using dev_r3\n",
    "def prepare_dspy_examples(dataset_split, max_examples=None):\n",
    "    \"\"\"Convert dataset to DSPy examples\"\"\"\n",
    "    examples = []\n",
    "    for i, item in enumerate(dataset_split):\n",
    "        if max_examples and i >= max_examples:\n",
    "            break\n",
    "        example = dspy.Example(\n",
    "            premise=item['premise'],\n",
    "            hypothesis=item['hypothesis'],\n",
    "            label=item['label']\n",
    "        ).with_inputs('premise', 'hypothesis')\n",
    "        examples.append(example)\n",
    "    return examples\n",
    "\n",
    "# Prepare optimization data from dev_r3 (20-100 examples as requested)\n",
    "print(\"Preparing optimization data from dev_r3...\")\n",
    "dev_examples = prepare_dspy_examples(dataset['dev_r3'], max_examples=50)\n",
    "print(f\"Prepared {len(dev_examples)} examples for optimization\")"
   ]
  },
  {
   "cell_type": "code",
   "execution_count": 21,
   "id": "befb9616",
   "metadata": {},
   "outputs": [
    {
     "name": "stdout",
     "output_type": "stream",
     "text": [
      "Setting up DSPy optimization...\n",
      "Starting DSPy program optimization...\n",
      "This may take several minutes depending on the number of examples and API calls...\n"
     ]
    },
    {
     "name": "stderr",
     "output_type": "stream",
     "text": [
      "  8%|▊         | 4/50 [00:13<02:36,  3.40s/it]"
     ]
    },
    {
     "name": "stdout",
     "output_type": "stream",
     "text": [
      "Bootstrapped 4 full traces after 4 examples for up to 3 rounds, amounting to 4 attempts.\n",
      "DSPy program optimization completed!\n"
     ]
    },
    {
     "name": "stderr",
     "output_type": "stream",
     "text": [
      "\n"
     ]
    }
   ],
   "source": [
    "from dspy.teleprompt import BootstrapFewShot\n",
    "\n",
    "def validate_answer(example, pred, trace=None):\n",
    "    \"\"\"Validation function for DSPy optimization\"\"\"\n",
    "    try:\n",
    "        # Handle both string and integer predictions\n",
    "        if isinstance(pred.label, str):\n",
    "            predicted_label = int(pred.label)\n",
    "        else:\n",
    "            predicted_label = pred.label\n",
    "        \n",
    "        # Ensure label is within valid range\n",
    "        if predicted_label not in [0, 1, 2]:\n",
    "            return False\n",
    "            \n",
    "        return predicted_label == example.label\n",
    "    except (ValueError, AttributeError, TypeError):\n",
    "        return False\n",
    "\n",
    "# Configure the teleprompter for optimization\n",
    "print(\"Setting up DSPy optimization...\")\n",
    "teleprompter = BootstrapFewShot(\n",
    "    metric=validate_answer,\n",
    "    max_bootstrapped_demos=4,  # Number of examples to bootstrap\n",
    "    max_labeled_demos=8,       # Maximum number of labeled demonstrations\n",
    "    max_rounds=3               # Number of optimization rounds\n",
    ")\n",
    "\n",
    "print(\"Starting DSPy program optimization...\")\n",
    "print(\"This may take several minutes depending on the number of examples and API calls...\")\n",
    "\n",
    "# Optimize the program\n",
    "optimized_llm_program = teleprompter.compile(llm_program, trainset=dev_examples)\n",
    "\n",
    "print(\"DSPy program optimization completed!\")"
   ]
  },
  {
   "cell_type": "markdown",
   "id": "6ee214b6",
   "metadata": {},
   "source": [
    "## Defining evaluation functions for models"
   ]
  },
  {
   "cell_type": "code",
   "execution_count": 27,
   "id": "2e3d475b",
   "metadata": {},
   "outputs": [],
   "source": [
    "from tqdm import tqdm\n",
    "\n",
    "def evaluate_llm_model(program, test_data):\n",
    "    \"\"\"Evaluate the LLM model on test examples\"\"\"\n",
    "    predictions = []\n",
    "    references = []\n",
    "    \n",
    "    print(f\"Evaluating LLM on {len(test_data)} examples...\")\n",
    "    \n",
    "    for i, example in enumerate(tqdm(test_data, desc=\"LLM Evaluation\")):\n",
    "        try:\n",
    "            result = program(premise=example['premise'], hypothesis=example['hypothesis'])\n",
    "            \n",
    "            # Handle label conversion safely\n",
    "            if isinstance(result.label, str):\n",
    "                pred_label = int(result.label)\n",
    "            else:\n",
    "                pred_label = result.label\n",
    "            \n",
    "            if pred_label not in [0, 1, 2]:\n",
    "                pred_label = 1  # Default to neutral\n",
    "                \n",
    "            predictions.append(pred_label)\n",
    "            references.append(example['label'])\n",
    "            \n",
    "        except Exception as e:\n",
    "            print(f\"Error processing example {i}: {e}\")\n",
    "            # Use neutral as default prediction in case of error\n",
    "            predictions.append(1)\n",
    "            references.append(example['label'])\n",
    "    \n",
    "    return predictions, references"
   ]
  },
  {
   "cell_type": "code",
   "execution_count": 28,
   "id": "cf4104af",
   "metadata": {},
   "outputs": [],
   "source": [
    "def evaluate_deberta_model(test_data):\n",
    "    \"\"\"Evaluate the DeBERTa model on test examples\"\"\"\n",
    "    predictions = []\n",
    "    references = []\n",
    "    \n",
    "    print(f\"Evaluating DeBERTa on {len(test_data)} examples...\")\n",
    "    \n",
    "    for i, example in enumerate(tqdm(test_data, desc=\"DeBERTa Evaluation\")):   \n",
    "        try:\n",
    "            pred_label = deberta_predict(example['premise'], example['hypothesis'])\n",
    "            predictions.append(pred_label)\n",
    "            references.append(example['label'])\n",
    "        except Exception as e:\n",
    "            print(f\"Error processing example {i}: {e}\")\n",
    "            # Use neutral as default prediction in case of error\n",
    "            predictions.append(1)\n",
    "            references.append(example['label'])\n",
    "    \n",
    "    return predictions, references"
   ]
  },
  {
   "cell_type": "markdown",
   "id": "17ab422d",
   "metadata": {},
   "source": [
    "## Load ANLI dataset"
   ]
  },
  {
   "cell_type": "code",
   "execution_count": 12,
   "id": "0438789b",
   "metadata": {},
   "outputs": [
    {
     "name": "stderr",
     "output_type": "stream",
     "text": [
      "c:\\Users\\gilba\\Git_vscode\\nlp-with-llms\\hw2\\nli-xplain\\.venv\\Lib\\site-packages\\tqdm\\auto.py:21: TqdmWarning: IProgress not found. Please update jupyter and ipywidgets. See https://ipywidgets.readthedocs.io/en/stable/user_install.html\n",
      "  from .autonotebook import tqdm as notebook_tqdm\n"
     ]
    }
   ],
   "source": [
    "from datasets import load_dataset\n",
    "\n",
    "dataset = load_dataset(\"facebook/anli\")\n",
    "dataset = dataset.filter(lambda x: x['reason'] != None and x['reason'] != \"\")"
   ]
  },
  {
   "cell_type": "code",
   "execution_count": 13,
   "id": "e59927ea",
   "metadata": {},
   "outputs": [
    {
     "data": {
      "text/plain": [
       "DatasetDict({\n",
       "    train_r1: Dataset({\n",
       "        features: ['uid', 'premise', 'hypothesis', 'label', 'reason'],\n",
       "        num_rows: 2923\n",
       "    })\n",
       "    dev_r1: Dataset({\n",
       "        features: ['uid', 'premise', 'hypothesis', 'label', 'reason'],\n",
       "        num_rows: 1000\n",
       "    })\n",
       "    test_r1: Dataset({\n",
       "        features: ['uid', 'premise', 'hypothesis', 'label', 'reason'],\n",
       "        num_rows: 1000\n",
       "    })\n",
       "    train_r2: Dataset({\n",
       "        features: ['uid', 'premise', 'hypothesis', 'label', 'reason'],\n",
       "        num_rows: 4861\n",
       "    })\n",
       "    dev_r2: Dataset({\n",
       "        features: ['uid', 'premise', 'hypothesis', 'label', 'reason'],\n",
       "        num_rows: 1000\n",
       "    })\n",
       "    test_r2: Dataset({\n",
       "        features: ['uid', 'premise', 'hypothesis', 'label', 'reason'],\n",
       "        num_rows: 1000\n",
       "    })\n",
       "    train_r3: Dataset({\n",
       "        features: ['uid', 'premise', 'hypothesis', 'label', 'reason'],\n",
       "        num_rows: 13375\n",
       "    })\n",
       "    dev_r3: Dataset({\n",
       "        features: ['uid', 'premise', 'hypothesis', 'label', 'reason'],\n",
       "        num_rows: 1200\n",
       "    })\n",
       "    test_r3: Dataset({\n",
       "        features: ['uid', 'premise', 'hypothesis', 'label', 'reason'],\n",
       "        num_rows: 1200\n",
       "    })\n",
       "})"
      ]
     },
     "execution_count": 13,
     "metadata": {},
     "output_type": "execute_result"
    }
   ],
   "source": [
    "dataset"
   ]
  },
  {
   "cell_type": "markdown",
   "id": "ea8e1258",
   "metadata": {},
   "source": [
    "## Evaluate Metrics\n",
    "\n",
    "Let's use the huggingface `evaluate` package to compute the performance of the baseline.\n"
   ]
  },
  {
   "cell_type": "code",
   "execution_count": 23,
   "id": "0e2e9027",
   "metadata": {},
   "outputs": [],
   "source": [
    "from evaluate import load\n",
    "\n",
    "accuracy = load(\"accuracy\")\n",
    "precision = load(\"precision\")\n",
    "recall = load(\"recall\")\n",
    "f1 = load(\"f1\")\n"
   ]
  },
  {
   "cell_type": "code",
   "execution_count": 24,
   "id": "1ab24e1b",
   "metadata": {},
   "outputs": [],
   "source": [
    "import evaluate\n",
    "clf_metrics = evaluate.combine([\"accuracy\", \"f1\", \"precision\", \"recall\"])"
   ]
  },
  {
   "cell_type": "code",
   "execution_count": 25,
   "id": "5d04f0c1",
   "metadata": {},
   "outputs": [
    {
     "data": {
      "text/plain": [
       "{'accuracy': 0.6666666666666666,\n",
       " 'f1': 0.6666666666666666,\n",
       " 'precision': 1.0,\n",
       " 'recall': 0.5}"
      ]
     },
     "execution_count": 25,
     "metadata": {},
     "output_type": "execute_result"
    }
   ],
   "source": [
    "clf_metrics.compute(predictions=[0, 1, 0], references=[0, 1, 1])"
   ]
  },
  {
   "cell_type": "markdown",
   "id": "0909d58b",
   "metadata": {},
   "source": [
    "## Your Turn\n",
    "\n",
    "Compute the classification metrics on the baseline LLM model on each test section of the ANLI dataset for samples that have a non-empty 'reason' field.\n",
    "\n",
    "You also must show a comparison between the DeBERTa baseline model and this LLM baseline model. The comparison metric should compute the agreement between the two models:\n",
    "* On how many samples they are both correct [Correct]\n",
    "* On how many samples Model1 is correct and Model2 is incorrect [Correct1]\n",
    "* On how many samples Model1 is incorrect and Model2 is correct [Correct2]\n",
    "* On how many samples both are incorrect [Incorrect]"
   ]
  },
  {
   "cell_type": "code",
   "execution_count": 29,
   "id": "32da4cc6",
   "metadata": {},
   "outputs": [
    {
     "name": "stdout",
     "output_type": "stream",
     "text": [
      "Actual test_r3 samples: 1200\n",
      "\n",
      "--- Baseline LLM Evaluation on test_r3 ---\n",
      "Evaluating LLM on 1200 examples...\n"
     ]
    },
    {
     "name": "stderr",
     "output_type": "stream",
     "text": [
      "LLM Evaluation: 100%|██████████| 1200/1200 [2:02:39<00:00,  6.13s/it]     \n"
     ]
    }
   ],
   "source": [
    "# Evaluate on test_r3 partition only (1,200 samples as requested)\n",
    "\n",
    "test_r3_data = list(dataset['test_r3'])\n",
    "print(f\"Actual test_r3 samples: {len(test_r3_data)}\")\n",
    "\n",
    "# Evaluate baseline LLM model (unoptimized)\n",
    "print(f\"\\n--- Baseline LLM Evaluation on test_r3 ---\")\n",
    "baseline_llm_predictions, references = evaluate_llm_model(llm_program, test_r3_data)"
   ]
  },
  {
   "cell_type": "code",
   "execution_count": 30,
   "id": "0e18d20d",
   "metadata": {},
   "outputs": [
    {
     "name": "stdout",
     "output_type": "stream",
     "text": [
      "\n",
      "--- Optimized LLM Evaluation on test_r3 ---\n",
      "Evaluating LLM on 1200 examples...\n"
     ]
    },
    {
     "name": "stderr",
     "output_type": "stream",
     "text": [
      "LLM Evaluation: 100%|██████████| 1200/1200 [1:34:42<00:00,  4.74s/it] \n"
     ]
    }
   ],
   "source": [
    "print(f\"\\n--- Optimized LLM Evaluation on test_r3 ---\")\n",
    "optimized_llm_predictions, _ = evaluate_llm_model(optimized_llm_program, test_r3_data)"
   ]
  },
  {
   "cell_type": "code",
   "execution_count": 31,
   "id": "8b90479e",
   "metadata": {},
   "outputs": [
    {
     "name": "stdout",
     "output_type": "stream",
     "text": [
      "\n",
      "--- DeBERTa Evaluation on test_r3 ---\n",
      "Evaluating DeBERTa on 1200 examples...\n"
     ]
    },
    {
     "name": "stderr",
     "output_type": "stream",
     "text": [
      "DeBERTa Evaluation:   0%|          | 0/1200 [00:00<?, ?it/s]Asking to truncate to max_length but no maximum length is provided and the model has no predefined maximum length. Default to no truncation.\n",
      "DeBERTa Evaluation: 100%|██████████| 1200/1200 [05:12<00:00,  3.84it/s]\n"
     ]
    }
   ],
   "source": [
    "# Evaluate DeBERTa model  \n",
    "print(f\"\\n--- DeBERTa Evaluation on test_r3 ---\")\n",
    "deberta_predictions, _ = evaluate_deberta_model(test_r3_data)"
   ]
  },
  {
   "cell_type": "markdown",
   "id": "984cc6cd",
   "metadata": {},
   "source": [
    "## Results"
   ]
  },
  {
   "cell_type": "code",
   "execution_count": null,
   "id": "c3246dfb",
   "metadata": {},
   "outputs": [],
   "source": [
    "references"
   ]
  },
  {
   "cell_type": "code",
   "execution_count": null,
   "id": "a16cca31",
   "metadata": {},
   "outputs": [],
   "source": [
    "baseline_llm_predictions"
   ]
  },
  {
   "cell_type": "code",
   "execution_count": null,
   "id": "f621bcf2",
   "metadata": {},
   "outputs": [],
   "source": [
    "optimized_llm_predictions"
   ]
  },
  {
   "cell_type": "code",
   "execution_count": null,
   "id": "6d26abde",
   "metadata": {},
   "outputs": [],
   "source": [
    "deberta_predictions"
   ]
  },
  {
   "cell_type": "markdown",
   "id": "c2aa52f8",
   "metadata": {},
   "source": [
    "## Metrics"
   ]
  },
  {
   "cell_type": "code",
   "execution_count": 37,
   "id": "ac2241cf",
   "metadata": {},
   "outputs": [
    {
     "name": "stdout",
     "output_type": "stream",
     "text": [
      "\n",
      "test_r3 Results Summary:\n",
      "Baseline LLM   - Accuracy: 0.6875, F1: 0.6931\n",
      "Optimized LLM  - Accuracy: 0.7000, F1: 0.7048\n",
      "DeBERTa        - Accuracy: 0.4950, F1: 0.4943\n",
      "LLM Optimization Impact - Accuracy: +0.0125, F1: +0.0117\n"
     ]
    }
   ],
   "source": [
    "# Compute metrics for all models separately to handle different parameters\n",
    "def compute_all_metrics(predictions, references):\n",
    "    \"\"\"Compute all metrics with appropriate parameters\"\"\"\n",
    "    results = {}\n",
    "    \n",
    "    # Accuracy doesn't take 'average' parameter\n",
    "    results['accuracy'] = accuracy.compute(predictions=predictions, references=references)['accuracy']\n",
    "    \n",
    "    # Other metrics take 'average' parameter\n",
    "    results['precision'] = precision.compute(predictions=predictions, references=references, average='macro')['precision']\n",
    "    results['recall'] = recall.compute(predictions=predictions, references=references, average='macro')['recall']\n",
    "    results['f1'] = f1.compute(predictions=predictions, references=references, average='macro')['f1']\n",
    "    \n",
    "    return results\n",
    "\n",
    "# Compute metrics for all models\n",
    "baseline_llm_results = compute_all_metrics(baseline_llm_predictions, references)\n",
    "optimized_llm_results = compute_all_metrics(optimized_llm_predictions, references)\n",
    "deberta_results = compute_all_metrics(deberta_predictions, references)\n",
    "\n",
    "print(f\"\\ntest_r3 Results Summary:\")\n",
    "print(f\"Baseline LLM   - Accuracy: {baseline_llm_results['accuracy']:.4f}, F1: {baseline_llm_results['f1']:.4f}\")\n",
    "print(f\"Optimized LLM  - Accuracy: {optimized_llm_results['accuracy']:.4f}, F1: {optimized_llm_results['f1']:.4f}\")\n",
    "print(f\"DeBERTa        - Accuracy: {deberta_results['accuracy']:.4f}, F1: {deberta_results['f1']:.4f}\")\n",
    "\n",
    "# Show optimization improvement\n",
    "accuracy_improvement = optimized_llm_results['accuracy'] - baseline_llm_results['accuracy']\n",
    "f1_improvement = optimized_llm_results['f1'] - baseline_llm_results['f1']\n",
    "print(f\"LLM Optimization Impact - Accuracy: {accuracy_improvement:+.4f}, F1: {f1_improvement:+.4f}\")"
   ]
  },
  {
   "cell_type": "code",
   "execution_count": 38,
   "id": "c7935fc4",
   "metadata": {},
   "outputs": [
    {
     "name": "stdout",
     "output_type": "stream",
     "text": [
      "\n",
      "================================================================================\n",
      "MODEL AGREEMENT ANALYSIS (Optimized LLM vs DeBERTa) - test_r3\n",
      "================================================================================\n",
      "Agreement Categories:\n",
      "  • Both models correct [Correct]: 461 (38.4%)\n",
      "  • LLM correct, DeBERTa wrong [Correct1]: 379 (31.6%)\n",
      "  • LLM wrong, DeBERTa correct [Correct2]: 133 (11.1%)\n",
      "  • Both models wrong [Incorrect]: 227 (18.9%)\n",
      "  • Total samples: 1200\n"
     ]
    }
   ],
   "source": [
    "def compute_agreement_metrics(model1_preds, model2_preds, references, model1_name=\"Model1\", model2_name=\"Model2\"):\n",
    "    \"\"\"Compute agreement metrics between two models\"\"\"\n",
    "    \n",
    "    model1_correct = [p == r for p, r in zip(model1_preds, references)]\n",
    "    model2_correct = [p == r for p, r in zip(model2_preds, references)]\n",
    "    \n",
    "    # Agreement categories as requested\n",
    "    both_correct = sum(m1c and m2c for m1c, m2c in zip(model1_correct, model2_correct))\n",
    "    model1_correct_model2_wrong = sum(m1c and not m2c for m1c, m2c in zip(model1_correct, model2_correct))\n",
    "    model1_wrong_model2_correct = sum(not m1c and m2c for m1c, m2c in zip(model1_correct, model2_correct))\n",
    "    both_wrong = sum(not m1c and not m2c for m1c, m2c in zip(model1_correct, model2_correct))\n",
    "    \n",
    "    total = len(references)\n",
    "    \n",
    "    return {\n",
    "        'Correct': both_correct,\n",
    "        'Correct1': model1_correct_model2_wrong,\n",
    "        'Correct2': model1_wrong_model2_correct,\n",
    "        'Incorrect': both_wrong,\n",
    "        'Correct (%)': (both_correct / total) * 100,\n",
    "        'Correct1 (%)': (model1_correct_model2_wrong / total) * 100,\n",
    "        'Correct2 (%)': (model1_wrong_model2_correct / total) * 100,\n",
    "        'Incorrect (%)': (both_wrong / total) * 100,\n",
    "        'Total': total\n",
    "    }\n",
    "\n",
    "# Agreement analysis between Optimized LLM and DeBERTa (as requested)\n",
    "print(f\"\\n{'='*80}\")\n",
    "print(\"MODEL AGREEMENT ANALYSIS (Optimized LLM vs DeBERTa) - test_r3\")\n",
    "print(f\"{'='*80}\")\n",
    "\n",
    "agreement = compute_agreement_metrics(\n",
    "    optimized_llm_predictions,\n",
    "    deberta_predictions,\n",
    "    references,\n",
    "    \"Optimized LLM\", \"DeBERTa\"\n",
    ")\n",
    "\n",
    "print(\"Agreement Categories:\")\n",
    "print(f\"  • Both models correct [Correct]: {agreement['Correct']} ({agreement['Correct (%)']:.1f}%)\")\n",
    "print(f\"  • LLM correct, DeBERTa wrong [Correct1]: {agreement['Correct1']} ({agreement['Correct1 (%)']:.1f}%)\")\n",
    "print(f\"  • LLM wrong, DeBERTa correct [Correct2]: {agreement['Correct2']} ({agreement['Correct2 (%)']:.1f}%)\")\n",
    "print(f\"  • Both models wrong [Incorrect]: {agreement['Incorrect']} ({agreement['Incorrect (%)']:.1f}%)\")\n",
    "print(f\"  • Total samples: {agreement['Total']}\")"
   ]
  },
  {
   "cell_type": "code",
   "execution_count": 41,
   "id": "3e3d9ce1",
   "metadata": {},
   "outputs": [
    {
     "name": "stdout",
     "output_type": "stream",
     "text": [
      "\n",
      "DETAILED PERFORMANCE COMPARISON (test_r3):\n",
      "============================================================\n",
      "        Model  Accuracy     F1  Precision  Recall  Samples\n",
      " Baseline LLM    0.6875 0.6931     0.7357  0.6874     1200\n",
      "Optimized LLM    0.7000 0.7048     0.7430  0.6995     1200\n",
      "      DeBERTa    0.4950 0.4943     0.4985  0.4946     1200\n"
     ]
    },
    {
     "data": {
      "image/png": "[encoded data removed]",
      "text/plain": [
       "<Figure size 1500x600 with 2 Axes>"
      ]
     },
     "metadata": {},
     "output_type": "display_data"
    }
   ],
   "source": [
    "import pandas as pd\n",
    "import matplotlib.pyplot as plt\n",
    "import numpy as np\n",
    "\n",
    "# Create detailed comparison table for test_r3\n",
    "print(\"\\nDETAILED PERFORMANCE COMPARISON (test_r3):\")\n",
    "print(\"=\" * 60)\n",
    "\n",
    "comparison_df = pd.DataFrame({\n",
    "    'Model': ['Baseline LLM', 'Optimized LLM', 'DeBERTa'],\n",
    "    'Accuracy': [baseline_llm_results['accuracy'], optimized_llm_results['accuracy'], deberta_results['accuracy']],\n",
    "    'F1': [baseline_llm_results['f1'], optimized_llm_results['f1'], deberta_results['f1']],\n",
    "    'Precision': [baseline_llm_results['precision'], optimized_llm_results['precision'], deberta_results['precision']],\n",
    "    'Recall': [baseline_llm_results['recall'], optimized_llm_results['recall'], deberta_results['recall']],\n",
    "    'Samples': [len(references), len(references), len(references)]\n",
    "})\n",
    "\n",
    "print(comparison_df.round(4).to_string(index=False))\n",
    "\n",
    "# Visualization\n",
    "fig, (ax1, ax2) = plt.subplots(1, 2, figsize=(15, 6))\n",
    "\n",
    "# Performance comparison bar chart\n",
    "metrics = ['Accuracy', 'F1', 'Precision', 'Recall']\n",
    "baseline_scores = [baseline_llm_results[m.lower()] for m in metrics]\n",
    "optimized_scores = [optimized_llm_results[m.lower()] for m in metrics]\n",
    "deberta_scores = [deberta_results[m.lower()] for m in metrics]\n",
    "\n",
    "x = np.arange(len(metrics))\n",
    "width = 0.25\n",
    "\n",
    "ax1.bar(x - width, baseline_scores, width, label='Baseline LLM', alpha=0.8, color='lightblue')\n",
    "ax1.bar(x, optimized_scores, width, label='Optimized LLM', alpha=0.8, color='darkblue')\n",
    "ax1.bar(x + width, deberta_scores, width, label='DeBERTa', alpha=0.8, color='lightcoral')\n",
    "\n",
    "ax1.set_title('Performance Comparison on test_r3')\n",
    "ax1.set_xlabel('Metrics')\n",
    "ax1.set_ylabel('Score')\n",
    "ax1.set_xticks(x)\n",
    "ax1.set_xticklabels(metrics)\n",
    "ax1.legend()\n",
    "ax1.grid(True, alpha=0.3)\n",
    "\n",
    "# Add value labels on bars\n",
    "for i, (baseline_score, optimized_score, deberta_score) in enumerate(zip(baseline_scores, optimized_scores, deberta_scores)):\n",
    "    ax1.text(i - width, baseline_score + 0.005, f'{baseline_score:.3f}', ha='center', va='bottom', fontsize=8)\n",
    "    ax1.text(i, optimized_score + 0.005, f'{optimized_score:.3f}', ha='center', va='bottom', fontsize=8)\n",
    "    ax1.text(i + width, deberta_score + 0.005, f'{deberta_score:.3f}', ha='center', va='bottom', fontsize=8)\n",
    "\n",
    "# Agreement pie chart\n",
    "labels = ['Both Correct', 'LLM Correct\\nDeBERTa Wrong', 'LLM Wrong\\nDeBERTa Correct', 'Both Wrong']\n",
    "sizes = [agreement['Correct'], agreement['Correct1'], agreement['Correct2'], agreement['Incorrect']]\n",
    "colors = ['#2ecc71', '#3498db', '#e74c3c', '#95a5a6']\n",
    "\n",
    "wedges, texts, autotexts = ax2.pie(sizes, labels=labels, autopct='%1.1f%%', \n",
    "                                  startangle=90, colors=colors)\n",
    "ax2.set_title(f'Agreement Analysis: Optimized LLM vs DeBERTa\\n({len(references)} test_r3 samples)')\n",
    "\n",
    "# Make percentage text more readable\n",
    "for autotext in autotexts:\n",
    "    autotext.set_color('white')\n",
    "    autotext.set_fontweight('bold')\n",
    "\n",
    "plt.tight_layout()\n",
    "plt.show()"
   ]
  },
  {
   "cell_type": "code",
   "execution_count": 42,
   "id": "09c323e1",
   "metadata": {},
   "outputs": [
    {
     "name": "stdout",
     "output_type": "stream",
     "text": [
      "\n",
      "SAMPLE PREDICTIONS ANALYSIS (test_r3):\n",
      "============================================================\n",
      "Sample Examples from test_r3:\n",
      "\n",
      "Example 1:\n",
      "  Premise: It is Sunday today, let's take a look at the most popular posts of the last couple of days. Most of ...\n",
      "  Hypothesis: The day of the passage is usually when Christians praise the lord together\n",
      "  True Label: Entailment (0)\n",
      "  Baseline LLM: Neutral (1) ✗\n",
      "  Optimized LLM: Neutral (1) ✗\n",
      "  DeBERTa: Neutral (1) ✗\n",
      "  LLM-DeBERTa Agreement: Yes\n",
      "\n",
      "Example 2:\n",
      "  Premise: By The Associated Press WELLINGTON, New Zealand (AP) — All passengers and crew have survived a crash...\n",
      "  Hypothesis: No children were killed in the accident.\n",
      "  True Label: Entailment (0)\n",
      "  Baseline LLM: Entailment (0) ✓\n",
      "  Optimized LLM: Neutral (1) ✗\n",
      "  DeBERTa: Neutral (1) ✗\n",
      "  LLM-DeBERTa Agreement: Yes\n",
      "\n",
      "Example 3:\n",
      "  Premise: Tokyo - Food group Nestle is seeking to lure Japanese holiday shoppers with a taste for fine snackin...\n",
      "  Hypothesis: Japanese like kit kat. \n",
      "  True Label: Entailment (0)\n",
      "  Baseline LLM: Neutral (1) ✗\n",
      "  Optimized LLM: Neutral (1) ✗\n",
      "  DeBERTa: Entailment (0) ✓\n",
      "  LLM-DeBERTa Agreement: No\n",
      "\n",
      "Example 4:\n",
      "  Premise: Governor Greg Abbott has called for a statewide show of support for law enforcement Friday, July 7. ...\n",
      "  Hypothesis: Law enforcement officers and the people at the Travis St. memorial do not show t...\n",
      "  True Label: Entailment (0)\n",
      "  Baseline LLM: Entailment (0) ✓\n",
      "  Optimized LLM: Entailment (0) ✓\n",
      "  DeBERTa: Neutral (1) ✗\n",
      "  LLM-DeBERTa Agreement: No\n",
      "\n",
      "Example 5:\n",
      "  Premise: Sept 4 (Reuters) - J.P. Morgan Asset Management, a unit of JPMorgan Chase & Co, said it appointed Pi...\n",
      "  Hypothesis: Pietro Grassano was once the country head for France.\n",
      "  True Label: Entailment (0)\n",
      "  Baseline LLM: Contradiction (2) ✗\n",
      "  Optimized LLM: Neutral (1) ✗\n",
      "  DeBERTa: Neutral (1) ✗\n",
      "  LLM-DeBERTa Agreement: Yes\n",
      "\n",
      "============================================================\n",
      "DSPy OPTIMIZATION IMPACT ON test_r3:\n",
      "============================================================\n",
      "Performance improvements from DSPy optimization:\n",
      "  Accuracy: +0.0125\n",
      "  F1: +0.0117\n",
      "  Precision: +0.0073\n",
      "  Recall: +0.0121\n",
      "\n",
      "============================================================\n",
      "FINAL SUMMARY (test_r3 evaluation):\n",
      "============================================================\n",
      "Dataset: ANLI test_r3 partition\n",
      "Samples evaluated: 1200\n",
      "Samples with non-empty 'reason' field: 1200\n",
      "\n",
      "Best performing model: Optimized LLM\n",
      "Highest accuracy: 0.7000\n",
      "DSPy optimization improved LLM performance\n"
     ]
    }
   ],
   "source": [
    "# Sample predictions analysis for test_r3\n",
    "print(\"\\nSAMPLE PREDICTIONS ANALYSIS (test_r3):\")\n",
    "print(\"=\" * 60)\n",
    "\n",
    "label_names = {0: 'Entailment', 1: 'Neutral', 2: 'Contradiction'}\n",
    "\n",
    "# Show 5 sample examples from test_r3\n",
    "print(\"Sample Examples from test_r3:\")\n",
    "for i in range(min(5, len(test_r3_data))):\n",
    "    example = test_r3_data[i]\n",
    "    print(f\"\\nExample {i+1}:\")\n",
    "    print(f\"  Premise: {example['premise'][:100]}{'...' if len(example['premise']) > 100 else ''}\")\n",
    "    print(f\"  Hypothesis: {example['hypothesis'][:80]}{'...' if len(example['hypothesis']) > 80 else ''}\")\n",
    "    print(f\"  True Label: {label_names[references[i]]} ({references[i]})\")\n",
    "    print(f\"  Baseline LLM: {label_names[baseline_llm_predictions[i]]} ({baseline_llm_predictions[i]}) {'✓' if baseline_llm_predictions[i] == references[i] else '✗'}\")\n",
    "    print(f\"  Optimized LLM: {label_names[optimized_llm_predictions[i]]} ({optimized_llm_predictions[i]}) {'✓' if optimized_llm_predictions[i] == references[i] else '✗'}\")\n",
    "    print(f\"  DeBERTa: {label_names[deberta_predictions[i]]} ({deberta_predictions[i]}) {'✓' if deberta_predictions[i] == references[i] else '✗'}\")\n",
    "    print(f\"  LLM-DeBERTa Agreement: {'Yes' if optimized_llm_predictions[i] == deberta_predictions[i] else 'No'}\")\n",
    "\n",
    "# Performance improvement analysis\n",
    "print(f\"\\n{'='*60}\")\n",
    "print(\"DSPy OPTIMIZATION IMPACT ON test_r3:\")\n",
    "print(f\"{'='*60}\")\n",
    "\n",
    "llm_optimization_improvement = {\n",
    "    'accuracy': optimized_llm_results['accuracy'] - baseline_llm_results['accuracy'],\n",
    "    'f1': optimized_llm_results['f1'] - baseline_llm_results['f1'],\n",
    "    'precision': optimized_llm_results['precision'] - baseline_llm_results['precision'],\n",
    "    'recall': optimized_llm_results['recall'] - baseline_llm_results['recall']\n",
    "}\n",
    "\n",
    "print(\"Performance improvements from DSPy optimization:\")\n",
    "for metric, improvement in llm_optimization_improvement.items():\n",
    "    print(f\"  {metric.capitalize()}: {improvement:+.4f}\")\n",
    "\n",
    "# Final summary\n",
    "print(f\"\\n{'='*60}\")\n",
    "print(\"FINAL SUMMARY (test_r3 evaluation):\")\n",
    "print(f\"{'='*60}\")\n",
    "print(f\"Dataset: ANLI test_r3 partition\")\n",
    "print(f\"Samples evaluated: {len(references)}\")\n",
    "print(f\"Samples with non-empty 'reason' field: {len(references)}\")\n",
    "print(f\"\\nBest performing model: {max(['Baseline LLM', 'Optimized LLM', 'DeBERTa'], key=lambda x: [baseline_llm_results['accuracy'], optimized_llm_results['accuracy'], deberta_results['accuracy']][['Baseline LLM', 'Optimized LLM', 'DeBERTa'].index(x)])}\")\n",
    "print(f\"Highest accuracy: {max(baseline_llm_results['accuracy'], optimized_llm_results['accuracy'], deberta_results['accuracy']):.4f}\")\n",
    "print(f\"DSPy optimization {'improved' if accuracy_improvement > 0 else 'did not improve'} LLM performance\")"
   ]
  }
 ],
 "metadata": {
  "kernelspec": {
   "display_name": ".venv",
   "language": "python",
   "name": "python3"
  },
  "language_info": {
   "codemirror_mode": {
    "name": "ipython",
    "version": 3
   },
   "file_extension": ".py",
   "mimetype": "text/x-python",
   "name": "python",
   "nbconvert_exporter": "python",
   "pygments_lexer": "ipython3",
   "version": "3.13.1"
  }
 },
 "nbformat": 4,
 "nbformat_minor": 5
}
